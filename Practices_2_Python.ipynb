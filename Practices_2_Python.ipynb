{
  "nbformat": 4,
  "nbformat_minor": 0,
  "metadata": {
    "colab": {
      "name": "Practices_2_Python.ipynb",
      "provenance": [],
      "collapsed_sections": [],
      "authorship_tag": "ABX9TyOsj70HWcjx3Ihg+tF1RolI",
      "include_colab_link": true
    },
    "kernelspec": {
      "name": "python3",
      "display_name": "Python 3"
    },
    "language_info": {
      "name": "python"
    }
  },
  "cells": [
    {
      "cell_type": "markdown",
      "metadata": {
        "id": "view-in-github",
        "colab_type": "text"
      },
      "source": [
        "<a href=\"https://colab.research.google.com/github/candy-shecode/test-colab/blob/main/Practices_2_Python.ipynb\" target=\"_parent\"><img src=\"https://colab.research.google.com/assets/colab-badge.svg\" alt=\"Open In Colab\"/></a>"
      ]
    },
    {
      "cell_type": "code",
      "execution_count": 1,
      "metadata": {
        "colab": {
          "base_uri": "https://localhost:8080/"
        },
        "id": "v4xjgo2lMYDT",
        "outputId": "15401d26-dbad-4d84-a59f-62f2e902d4c1"
      },
      "outputs": [
        {
          "output_type": "stream",
          "name": "stdout",
          "text": [
            "['PYTHON', 'IS', 'A', 'VERY', 'POPULAR', 'PROGRAMMING', 'LANGUAGE', 'AND', 'I']\n"
          ]
        }
      ],
      "source": [
        "text = 'Python is a very popular programming language and i Love using it'\n",
        "words = text.split(' ')\n",
        "result = []\n",
        "for i, word in enumerate(words):\n",
        "  if i < 9:\n",
        "    result.append(word.upper())\n",
        "print(result)    "
      ]
    },
    {
      "cell_type": "code",
      "source": [
        ""
      ],
      "metadata": {
        "id": "A_Jc9RCsMhDd"
      },
      "execution_count": null,
      "outputs": []
    },
    {
      "cell_type": "code",
      "source": [
        "probabilities = [0.21, 0.91, 0.34, 0.55, 0.76, 0.02]\n",
        "result = []\n",
        "for i in probabilities:\n",
        "  if i > 0.5:\n",
        "    result.append(float(i))\n",
        "print(result)    "
      ],
      "metadata": {
        "colab": {
          "base_uri": "https://localhost:8080/"
        },
        "id": "YcH1PBCsMu-u",
        "outputId": "4c275a4e-9e49-43c8-9921-ed3694ac19c6"
      },
      "execution_count": 3,
      "outputs": [
        {
          "output_type": "stream",
          "name": "stdout",
          "text": [
            "[0.91, 0.55, 0.76]\n"
          ]
        }
      ]
    },
    {
      "cell_type": "code",
      "source": [
        ""
      ],
      "metadata": {
        "id": "sSMtVyGRMvCF"
      },
      "execution_count": null,
      "outputs": []
    },
    {
      "cell_type": "code",
      "source": [
        "indexes = [\n",
        "    'BOVESPA', 'DOW JONES COMP', 'DOW JONES INDU',\n",
        "    'DOW JONES TRANS', 'DOW JONES UTIL', 'IPC',\n",
        "    'IPSA', 'MERVAL', 'NASDAQ COMP', 'NASDAQ100',\n",
        "    'S&P500', 'S&P/TSX COMP'\n",
        "]\n",
        "\n",
        "for i in indexes:\n",
        "  if 'DOW' in i or 'S&P' in i:   \n",
        "    print(i)    "
      ],
      "metadata": {
        "colab": {
          "base_uri": "https://localhost:8080/"
        },
        "id": "D-VYM3GTMvFl",
        "outputId": "53f1eb7e-ab85-41e8-9c9f-8edae712e236"
      },
      "execution_count": 10,
      "outputs": [
        {
          "output_type": "stream",
          "name": "stdout",
          "text": [
            "DOW JONES COMP\n",
            "DOW JONES INDU\n",
            "DOW JONES TRANS\n",
            "DOW JONES UTIL\n",
            "S&P500\n",
            "S&P/TSX COMP\n"
          ]
        }
      ]
    },
    {
      "cell_type": "code",
      "source": [
        "gaming = {\n",
        "    '11B': 362.5,\n",
        "    'CDR': 297.0,\n",
        "    'CIG': 0.85,\n",
        "    'PLW': 318.0,\n",
        "    'TEN': 300.0\n",
        "}\n",
        "for game, i in gaming.items():\n",
        "    if i > 100.0:\n",
        "        print(game)"
      ],
      "metadata": {
        "colab": {
          "base_uri": "https://localhost:8080/"
        },
        "id": "BXiWOuZRMvYd",
        "outputId": "e598aaa7-f2a2-4307-ca84-fa4c0c01a5b9"
      },
      "execution_count": 34,
      "outputs": [
        {
          "output_type": "stream",
          "name": "stdout",
          "text": [
            "11B\n",
            "CDR\n",
            "PLW\n",
            "TEN\n"
          ]
        }
      ]
    },
    {
      "cell_type": "code",
      "source": [
        "names = ['Jack', 'Leon', 'Alice', '32-3c', 'Bob']\n",
        "for i in names:\n",
        "  if i.isalpha():\n",
        "    print(f'Hello {i}!')"
      ],
      "metadata": {
        "colab": {
          "base_uri": "https://localhost:8080/"
        },
        "id": "_Uu-CqzNsbUc",
        "outputId": "ebd2de42-bc6c-407f-9cc4-3655a080b3ef"
      },
      "execution_count": 37,
      "outputs": [
        {
          "output_type": "stream",
          "name": "stdout",
          "text": [
            "Hello Jack!\n",
            "Hello Leon!\n",
            "Hello Alice!\n",
            "Hello Bob!\n"
          ]
        }
      ]
    },
    {
      "cell_type": "code",
      "source": [
        "list1 = [1, 2, 0]\n",
        "list2 = [4, 5, 6, 1]\n",
        "result = False\n",
        "for i in list1:\n",
        "  if i in list2:\n",
        "    result = True\n",
        "    break\n",
        "print(result)\n"
      ],
      "metadata": {
        "colab": {
          "base_uri": "https://localhost:8080/"
        },
        "id": "ohO-yjDg1_fm",
        "outputId": "54d351ba-2783-4707-abf7-c0e7d186d43e"
      },
      "execution_count": 44,
      "outputs": [
        {
          "output_type": "stream",
          "name": "stdout",
          "text": [
            "True\n"
          ]
        }
      ]
    },
    {
      "cell_type": "code",
      "source": [
        "hashtags = ['holiday', 'sport', 'fit', None, 'fashion']\n",
        "result = False\n",
        "for i in hashtags:\n",
        "  if i == str:\n",
        "    result = True\n",
        "    break\n",
        "print(result)"
      ],
      "metadata": {
        "colab": {
          "base_uri": "https://localhost:8080/"
        },
        "id": "1ygiXQ_b1_jV",
        "outputId": "e7f1d4bb-cb1a-4ddc-f1df-bc433c5b8952"
      },
      "execution_count": 50,
      "outputs": [
        {
          "output_type": "stream",
          "name": "stdout",
          "text": [
            "False\n"
          ]
        }
      ]
    },
    {
      "cell_type": "code",
      "source": [
        "hashtags = ['holiday', 'sport', 'fit', None, 'fashion']\n",
        "result = True\n",
        " \n",
        "for hashtag in hashtags:\n",
        "    if not isinstance(hashtag, str):\n",
        "        result = False\n",
        "        break\n",
        "    \n",
        "print(result)"
      ],
      "metadata": {
        "colab": {
          "base_uri": "https://localhost:8080/"
        },
        "id": "uy7y0r7P7Gux",
        "outputId": "e4eca46e-e381-4f08-fb69-fb240cb31b13"
      },
      "execution_count": 51,
      "outputs": [
        {
          "output_type": "stream",
          "name": "stdout",
          "text": [
            "False\n"
          ]
        }
      ]
    },
    {
      "cell_type": "code",
      "source": [
        "number = 13\n",
        "if number > 1:\n",
        "    for i in range(2, number):\n",
        "        if number % i == 0:\n",
        "            print(f'{number} - not a prime number')\n",
        "            break\n",
        "    else:\n",
        "        print(f'{number} - prime number')\n",
        "else:\n",
        "    print(f'{number} - not a prime number')"
      ],
      "metadata": {
        "colab": {
          "base_uri": "https://localhost:8080/"
        },
        "id": "IpSSgZ2X5Rqn",
        "outputId": "951bfb24-c1ed-4c9b-b6c5-2b99d455a21d"
      },
      "execution_count": 52,
      "outputs": [
        {
          "output_type": "stream",
          "name": "stdout",
          "text": [
            "13 - prime number\n"
          ]
        }
      ]
    },
    {
      "cell_type": "code",
      "source": [
        ""
      ],
      "metadata": {
        "id": "HOVVogMH79EA"
      },
      "execution_count": null,
      "outputs": []
    }
  ]
}