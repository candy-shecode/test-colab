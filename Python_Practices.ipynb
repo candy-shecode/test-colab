{
  "nbformat": 4,
  "nbformat_minor": 0,
  "metadata": {
    "colab": {
      "name": "Python_Practices.ipynb",
      "provenance": [],
      "collapsed_sections": [],
      "authorship_tag": "ABX9TyOjqkXo3vLkamgZ8lcBk3hd",
      "include_colab_link": true
    },
    "kernelspec": {
      "name": "python3",
      "display_name": "Python 3"
    },
    "language_info": {
      "name": "python"
    }
  },
  "cells": [
    {
      "cell_type": "markdown",
      "metadata": {
        "id": "view-in-github",
        "colab_type": "text"
      },
      "source": [
        "<a href=\"https://colab.research.google.com/github/candy-shecode/test-colab/blob/main/Python_Practices.ipynb\" target=\"_parent\"><img src=\"https://colab.research.google.com/assets/colab-badge.svg\" alt=\"Open In Colab\"/></a>"
      ]
    },
    {
      "cell_type": "code",
      "source": [
        "print(\"Learn Python!\")"
      ],
      "metadata": {
        "colab": {
          "base_uri": "https://localhost:8080/"
        },
        "id": "BOhYPx46T5PP",
        "outputId": "5c445c02-f5d3-415e-fe03-cdf89daabf5d"
      },
      "execution_count": null,
      "outputs": [
        {
          "output_type": "stream",
          "name": "stdout",
          "text": [
            "Learn Python!\n"
          ]
        }
      ]
    },
    {
      "cell_type": "code",
      "source": [
        "age = 20\n",
        "print(f\"I am {age} years old\")"
      ],
      "metadata": {
        "colab": {
          "base_uri": "https://localhost:8080/"
        },
        "id": "j_5Y1rzMUNDv",
        "outputId": "c6f74411-25dd-403d-981e-ec679bc3bd4d"
      },
      "execution_count": null,
      "outputs": [
        {
          "output_type": "stream",
          "name": "stdout",
          "text": [
            "I am 20 years old\n"
          ]
        }
      ]
    },
    {
      "cell_type": "code",
      "source": [
        "man = \"Python\"\n",
        "Nam = \"3.8\"\n",
        "print(man + \",\" + str(Nam))"
      ],
      "metadata": {
        "colab": {
          "base_uri": "https://localhost:8080/"
        },
        "id": "t0kuubVEU3YS",
        "outputId": "99c9068d-6301-482a-ecd8-20b6e9234b32"
      },
      "execution_count": null,
      "outputs": [
        {
          "output_type": "stream",
          "name": "stdout",
          "text": [
            "Python,3.8\n"
          ]
        }
      ]
    },
    {
      "cell_type": "code",
      "source": [
        "man = \"Python\"\n",
        "Nam = \"3.8\"\n",
        "print(f'{man} , {Nam}')"
      ],
      "metadata": {
        "colab": {
          "base_uri": "https://localhost:8080/"
        },
        "id": "9gCnRczVqZaX",
        "outputId": "365ecf46-f9e2-4489-f809-b932b2d70cad"
      },
      "execution_count": null,
      "outputs": [
        {
          "output_type": "stream",
          "name": "stdout",
          "text": [
            "Python , 3.8\n"
          ]
        }
      ]
    },
    {
      "cell_type": "code",
      "source": [
        "price = 199.99\n",
        "print(f'This cost, {price}')"
      ],
      "metadata": {
        "colab": {
          "base_uri": "https://localhost:8080/"
        },
        "id": "70R60uPGWvY9",
        "outputId": "c2f9b81c-60c6-4550-ba0c-d761aac89bf8"
      },
      "execution_count": null,
      "outputs": [
        {
          "output_type": "stream",
          "name": "stdout",
          "text": [
            "This cost, 199.99\n"
          ]
        }
      ]
    },
    {
      "cell_type": "code",
      "source": [
        "price = 69.99\n",
        "discount = \"10%\"\n",
        "print(f\"This cost {price} with a discount of {discount}\")"
      ],
      "metadata": {
        "colab": {
          "base_uri": "https://localhost:8080/"
        },
        "id": "XNiPd1uRYgPe",
        "outputId": "b5086c4a-0cac-4e18-ef5f-3474a0ee1811"
      },
      "execution_count": null,
      "outputs": [
        {
          "output_type": "stream",
          "name": "stdout",
          "text": [
            "This cost 69.99 with a discount of 10%\n"
          ]
        }
      ]
    },
    {
      "cell_type": "code",
      "source": [
        "\n",
        "product = 34.99\n",
        "duct = 20 \n",
        "print(f'price: ${product}. Weight: {duct}Ibs.')"
      ],
      "metadata": {
        "colab": {
          "base_uri": "https://localhost:8080/"
        },
        "id": "yXEK8SuUZCOp",
        "outputId": "50c77f7e-5d99-4f85-f25a-692191d904f2"
      },
      "execution_count": null,
      "outputs": [
        {
          "output_type": "stream",
          "name": "stdout",
          "text": [
            "price: $34.99. Weight: 20Ibs.\n"
          ]
        }
      ]
    },
    {
      "cell_type": "code",
      "source": [
        "pi = 3.1415926535\n",
        "print (f'Pi: {pi:.4f}')"
      ],
      "metadata": {
        "colab": {
          "base_uri": "https://localhost:8080/"
        },
        "id": "mmziu3IgbHV7",
        "outputId": "5ef518c6-4634-46a7-b1d0-866707db9323"
      },
      "execution_count": null,
      "outputs": [
        {
          "output_type": "stream",
          "name": "stdout",
          "text": [
            "Pi: 3.1416\n"
          ]
        }
      ]
    },
    {
      "cell_type": "code",
      "source": [
        "print('----------------------------------------', end = ' ' )\n",
        "print('VERSION: 1.0.1', end = ' ')\n",
        "print('----------------------------------------', end = ' ')"
      ],
      "metadata": {
        "colab": {
          "base_uri": "https://localhost:8080/"
        },
        "id": "qp09GjOdeisx",
        "outputId": "37b8f1f0-699a-4a15-907b-d430b0d17bd4"
      },
      "execution_count": null,
      "outputs": [
        {
          "output_type": "stream",
          "name": "stdout",
          "text": [
            "---------------------------------------- VERSION: 1.0.1 ---------------------------------------- "
          ]
        }
      ]
    },
    {
      "cell_type": "code",
      "source": [
        "print('-' * 40)\n",
        "print('VERSION: 1.0.1')\n",
        "print('-' * 40)"
      ],
      "metadata": {
        "colab": {
          "base_uri": "https://localhost:8080/"
        },
        "id": "i3z7FmBbtOgP",
        "outputId": "d4320946-e495-4e65-dce4-67e4332e6418"
      },
      "execution_count": null,
      "outputs": [
        {
          "output_type": "stream",
          "name": "stdout",
          "text": [
            "----------------------------------------\n",
            "VERSION: 1.0.1\n",
            "----------------------------------------\n"
          ]
        }
      ]
    },
    {
      "cell_type": "code",
      "source": [
        "print(':' * 10)\n",
        "print('VICTORY BELONGS TO JESUS')\n",
        "print('=' * 10)"
      ],
      "metadata": {
        "colab": {
          "base_uri": "https://localhost:8080/"
        },
        "id": "4VgzUAjqtwWU",
        "outputId": "d77da37c-9bda-486f-f115-93b5869198f4"
      },
      "execution_count": null,
      "outputs": [
        {
          "output_type": "stream",
          "name": "stdout",
          "text": [
            "::::::::::\n",
            "VICTORY BELONGS TO JESUS\n",
            "==========\n"
          ]
        }
      ]
    },
    {
      "cell_type": "code",
      "source": [
        "print('=' * 40)\n",
        "print('autor: johnsmith@sample.com')\n",
        "print('date: 01-01-2021')\n",
        "print('=' * 40)"
      ],
      "metadata": {
        "colab": {
          "base_uri": "https://localhost:8080/"
        },
        "id": "yHc7sj0QuI9_",
        "outputId": "a3e96a21-c98e-4294-8d5c-a1893a15549b"
      },
      "execution_count": null,
      "outputs": [
        {
          "output_type": "stream",
          "name": "stdout",
          "text": [
            "========================================\n",
            "autor: johnsmith@sample.com\n",
            "date: 01-01-2021\n",
            "========================================\n"
          ]
        }
      ]
    },
    {
      "cell_type": "code",
      "source": [
        "vac = ('summer','time','holiday')\n",
        "print('summer','time','holiday' sep ='#')"
      ],
      "metadata": {
        "colab": {
          "base_uri": "https://localhost:8080/",
          "height": 130
        },
        "id": "fRNNH-oguySC",
        "outputId": "5c8d007f-0c04-452e-b244-75e874dc9b8a"
      },
      "execution_count": 82,
      "outputs": [
        {
          "output_type": "error",
          "ename": "SyntaxError",
          "evalue": "ignored",
          "traceback": [
            "\u001b[0;36m  File \u001b[0;32m\"<ipython-input-82-b7e62c36f2ce>\"\u001b[0;36m, line \u001b[0;32m2\u001b[0m\n\u001b[0;31m    print('summer','time','holiday' sep ='#')\u001b[0m\n\u001b[0m                                      ^\u001b[0m\n\u001b[0;31mSyntaxError\u001b[0m\u001b[0;31m:\u001b[0m invalid syntax\n"
          ]
        }
      ]
    },
    {
      "cell_type": "code",
      "source": [
        "from math import pi\n",
        "r = float(input (\"Input the radius of the circle : \"))\n",
        "print (\"The area of the circle with radius \" + str(r) + \" is: \" + str(pi * r**2))"
      ],
      "metadata": {
        "colab": {
          "base_uri": "https://localhost:8080/"
        },
        "id": "WdDGol2YwNqA",
        "outputId": "bbe42043-1ea0-4fcc-92b0-e386fc0f7ebc"
      },
      "execution_count": null,
      "outputs": [
        {
          "output_type": "stream",
          "name": "stdout",
          "text": [
            "Input the radius of the circle : 5\n",
            "The area of the circle with radius 5.0 is: 78.53981633974483\n"
          ]
        }
      ]
    },
    {
      "cell_type": "code",
      "source": [
        "from math import pi\n",
        "r = 5\n",
        "pi = 3.14\n",
        "area = pi * r ** 2\n",
        "print(f\"Area: {area:.1f}\")"
      ],
      "metadata": {
        "colab": {
          "base_uri": "https://localhost:8080/"
        },
        "id": "Doit88llyJww",
        "outputId": "37865103-72f1-41fd-eaef-85874bac7301"
      },
      "execution_count": null,
      "outputs": [
        {
          "output_type": "stream",
          "name": "stdout",
          "text": [
            "Area: 78.5\n"
          ]
        }
      ]
    },
    {
      "cell_type": "code",
      "source": [
        "present_value = 1000 \n",
        "interest_rate = 0.03\n",
        "investment_period = 5\n",
        "future_value = present_value * (1 + interest_rate) ** investment_period\n",
        "print(f'The future value of the investment: {future_value:.2f} USD')\n",
        "print()"
      ],
      "metadata": {
        "colab": {
          "base_uri": "https://localhost:8080/"
        },
        "id": "sXRZVSEL0cJW",
        "outputId": "2742463f-83a5-46ca-e8b7-a1103deeaee9"
      },
      "execution_count": null,
      "outputs": [
        {
          "output_type": "stream",
          "name": "stdout",
          "text": [
            "The future value of the investment: 1159.27 USD\n"
          ]
        }
      ]
    },
    {
      "cell_type": "code",
      "source": [
        "var = ''\n",
        "var2 = ' '\n",
        "var3 = '\\n'\n",
        "print(type(var))\n",
        "print(type(var2))\n",
        "print(type(var3))"
      ],
      "metadata": {
        "colab": {
          "base_uri": "https://localhost:8080/"
        },
        "id": "o_X9itFZ5sE0",
        "outputId": "e0660cac-03b7-48c6-a717-ac6125e4537c"
      },
      "execution_count": null,
      "outputs": [
        {
          "output_type": "stream",
          "name": "stdout",
          "text": [
            "<class 'str'>\n",
            "<class 'str'>\n",
            "<class 'str'>\n"
          ]
        }
      ]
    },
    {
      "cell_type": "code",
      "source": [
        "var1 = None\n",
        "var2 = False\n",
        "var3 = 'True'\n",
        "print(type(var1))\n",
        "print(type(var2))\n",
        "print(type(var3))"
      ],
      "metadata": {
        "id": "wHpxoHEOBZqy"
      },
      "execution_count": null,
      "outputs": []
    },
    {
      "cell_type": "code",
      "source": [
        "flag = False\n",
        "\n",
        "print(isinstance(flag, bool))"
      ],
      "metadata": {
        "colab": {
          "base_uri": "https://localhost:8080/"
        },
        "id": "Zqw_xjhWCX7C",
        "outputId": "40b5db2c-9ffe-4e07-ba6f-116e58c511f2"
      },
      "execution_count": null,
      "outputs": [
        {
          "output_type": "stream",
          "name": "stdout",
          "text": [
            "True\n"
          ]
        }
      ]
    },
    {
      "cell_type": "code",
      "source": [
        "text = 'python is a popular programming language'\n",
        "print(text.capitalize())"
      ],
      "metadata": {
        "colab": {
          "base_uri": "https://localhost:8080/"
        },
        "id": "2gl5q6slCrJh",
        "outputId": "59a32630-5add-4084-8eb5-81880b12e850"
      },
      "execution_count": null,
      "outputs": [
        {
          "output_type": "stream",
          "name": "stdout",
          "text": [
            "Python is a popular programming language\n"
          ]
        }
      ]
    },
    {
      "cell_type": "code",
      "source": [
        "text = 'python is a popular programming language'\n",
        "mun = text.count('p')\n",
        "print(f'Number of occurrences: {mun}')"
      ],
      "metadata": {
        "colab": {
          "base_uri": "https://localhost:8080/"
        },
        "id": "6ojvst4WDV43",
        "outputId": "5c7ce6f8-5196-41e4-a681-f2d5c88afffa"
      },
      "execution_count": null,
      "outputs": [
        {
          "output_type": "stream",
          "name": "stdout",
          "text": [
            "Number of occurrences: 4\n"
          ]
        }
      ]
    },
    {
      "cell_type": "code",
      "source": [
        "text = 'python is a popular programming language'\n",
        "\n",
        "print(f\"Number of occurrences: {text.count('p')}\")"
      ],
      "metadata": {
        "colab": {
          "base_uri": "https://localhost:8080/"
        },
        "id": "44lIO0RKEPV0",
        "outputId": "066d9bd3-4337-4e38-c0db-dfd522d85134"
      },
      "execution_count": null,
      "outputs": [
        {
          "output_type": "stream",
          "name": "stdout",
          "text": [
            "Number of occurrences: 4\n"
          ]
        }
      ]
    },
    {
      "cell_type": "code",
      "source": [
        "code1 = 'FVNISJND-XX-2020'\n",
        "code2 = 'FVNISJND-XY-2019'\n",
        "print(f\"code1: {code1.endswith('2020')}\")\n",
        "print(f\"code2: {code2.endswith('2020')}\")\n"
      ],
      "metadata": {
        "colab": {
          "base_uri": "https://localhost:8080/"
        },
        "id": "vyMQLkXEGLit",
        "outputId": "32494550-f65d-47e0-8e61-33d307cf789e"
      },
      "execution_count": null,
      "outputs": [
        {
          "output_type": "stream",
          "name": "stdout",
          "text": [
            "code1: True\n",
            "code2: False\n"
          ]
        }
      ]
    },
    {
      "cell_type": "code",
      "source": [
        "path1 = 'youtube.com/watch?v=5EhRztVxums'\n",
        "path2 = 'google.com/search?q=car'\n",
        "print(f\"path1: {path1.startswith('youtube')}\")\n",
        "print(f\"path2: {path2.startswith('youtube')}\") \n"
      ],
      "metadata": {
        "colab": {
          "base_uri": "https://localhost:8080/"
        },
        "id": "0gxM7rGaGLvV",
        "outputId": "c3537099-9a59-49a8-bd81-fb448bf3ab5b"
      },
      "execution_count": null,
      "outputs": [
        {
          "output_type": "stream",
          "name": "stdout",
          "text": [
            "path1: True\n",
            "path2: False\n"
          ]
        }
      ]
    },
    {
      "cell_type": "code",
      "source": [
        ""
      ],
      "metadata": {
        "id": "pDXkglA4MQKZ"
      },
      "execution_count": null,
      "outputs": []
    },
    {
      "cell_type": "code",
      "source": [
        "path1 = 'https://e-smartdata.teachable.com/p/sciezka-data-scientist-machine-learning-engineer'\n",
        "path2 = 'https://e-smartdata.teachable.com/p/sciezka-data-scientist-deep-learning-engineer'\n",
        "path3 = 'https://e-smartdata.teachable.com/p/sciezka-bi-analyst-data-analyst'\n",
        "print(f\"path1: {path1.find('scientist')}\") \n",
        "print(f\"path2: {path2.find('scientist')}\") \n",
        "print(f\"path3: {path3.find('scientist')}\") \n",
        "\n"
      ],
      "metadata": {
        "colab": {
          "base_uri": "https://localhost:8080/"
        },
        "id": "SCiY6aQtOfFb",
        "outputId": "d53b2231-d8e0-456f-f0df-8f29d1df10fc"
      },
      "execution_count": null,
      "outputs": [
        {
          "output_type": "stream",
          "name": "stdout",
          "text": [
            "path1: 49\n",
            "path2: 49\n",
            "path3: -1\n"
          ]
        }
      ]
    },
    {
      "cell_type": "code",
      "source": [
        "code1 = 'FVNISJND-20'\n",
        "code2 = 'FVNISJND20'\n",
        "print(f\"code1: {code1.isalnum()}\")\n",
        "print(f\"code2: {code2.isalnum()}\")"
      ],
      "metadata": {
        "colab": {
          "base_uri": "https://localhost:8080/"
        },
        "id": "8YMeikvrOfI6",
        "outputId": "d00283f2-6b06-4675-a375-df739118bfa5"
      },
      "execution_count": null,
      "outputs": [
        {
          "output_type": "stream",
          "name": "stdout",
          "text": [
            "code1: False\n",
            "code2: True\n"
          ]
        }
      ]
    },
    {
      "cell_type": "code",
      "source": [
        "text = 'Google Colab'\n",
        "print(text.lower())"
      ],
      "metadata": {
        "colab": {
          "base_uri": "https://localhost:8080/"
        },
        "id": "T06hJ3NOOfLy",
        "outputId": "6b30095d-3f4c-4222-dcb1-5db14cb4a6bc"
      },
      "execution_count": null,
      "outputs": [
        {
          "output_type": "stream",
          "name": "stdout",
          "text": [
            "google colab\n"
          ]
        }
      ]
    },
    {
      "cell_type": "code",
      "source": [
        "text = 'Google Colab'\n",
        "print(text.upper())"
      ],
      "metadata": {
        "colab": {
          "base_uri": "https://localhost:8080/"
        },
        "id": "Zr_n-j1uRtHl",
        "outputId": "5878535f-6f50-4f7c-efe3-3053cbe94754"
      },
      "execution_count": null,
      "outputs": [
        {
          "output_type": "stream",
          "name": "stdout",
          "text": [
            "GOOGLE COLAB\n"
          ]
        }
      ]
    },
    {
      "cell_type": "code",
      "source": [
        "text = '  Google Colab   '\n",
        "print(text.strip())"
      ],
      "metadata": {
        "colab": {
          "base_uri": "https://localhost:8080/"
        },
        "id": "9ngRRhz8So18",
        "outputId": "e7d59f69-a36b-4083-879e-c108e33d09e5"
      },
      "execution_count": null,
      "outputs": [
        {
          "output_type": "stream",
          "name": "stdout",
          "text": [
            "Google Colab\n"
          ]
        }
      ]
    },
    {
      "cell_type": "code",
      "source": [
        "code = 'FVNISJND-XX'\n",
        "print(code.replace('-', ' '))"
      ],
      "metadata": {
        "colab": {
          "base_uri": "https://localhost:8080/"
        },
        "id": "2NSd8xtBTziV",
        "outputId": "5de2e892-37f2-4385-ca25-04b46519ca14"
      },
      "execution_count": null,
      "outputs": [
        {
          "output_type": "stream",
          "name": "stdout",
          "text": [
            "FVNISJND XX\n"
          ]
        }
      ]
    },
    {
      "cell_type": "code",
      "source": [
        "text = '340-23-245-235'\n",
        "print(text.replace('-', ''))"
      ],
      "metadata": {
        "colab": {
          "base_uri": "https://localhost:8080/"
        },
        "id": "3NQLpbEbWHdn",
        "outputId": "23981750-bf33-4d29-c581-b8e2bba7f51b"
      },
      "execution_count": null,
      "outputs": [
        {
          "output_type": "stream",
          "name": "stdout",
          "text": [
            "34023245235\n"
          ]
        }
      ]
    },
    {
      "cell_type": "code",
      "source": [
        "text = 'Open,High,Low,Close'\n",
        "print(text.split(','))"
      ],
      "metadata": {
        "colab": {
          "base_uri": "https://localhost:8080/"
        },
        "id": "bjmYgBu3fWEt",
        "outputId": "439827fe-701b-42e3-c504-42579f260701"
      },
      "execution_count": null,
      "outputs": [
        {
          "output_type": "stream",
          "name": "stdout",
          "text": [
            "['Open', 'High', 'Low', 'Close']\n"
          ]
        }
      ]
    },
    {
      "cell_type": "code",
      "source": [
        "text = \"\"\"Python is a general-purpose language.\n",
        "Python is popular.\"\"\"\n",
        "text1 = text.splitlines()\n",
        "print(text1)"
      ],
      "metadata": {
        "colab": {
          "base_uri": "https://localhost:8080/"
        },
        "id": "Y6oQNoyjf7b2",
        "outputId": "7269e1e9-b671-4feb-fb6d-e8da9b2fbffe"
      },
      "execution_count": null,
      "outputs": [
        {
          "output_type": "stream",
          "name": "stdout",
          "text": [
            "['Python is a general-purpose language.', 'Python is popular.']\n"
          ]
        }
      ]
    },
    {
      "cell_type": "code",
      "source": [
        "num = 34\n",
        "print(str(num).zfill(6))"
      ],
      "metadata": {
        "colab": {
          "base_uri": "https://localhost:8080/"
        },
        "id": "7HA7-WNchLFi",
        "outputId": "0f6944e1-6c21-462e-db99-4b5f4c684d33"
      },
      "execution_count": 51,
      "outputs": [
        {
          "output_type": "stream",
          "name": "stdout",
          "text": [
            "000034\n"
          ]
        }
      ]
    },
    {
      "cell_type": "code",
      "source": [
        "url = 'https://e-smartdata.teachable.com/p/sciezka-data-scientist-machine-learning-engineer'\n",
        "divide = url.split('\\')[-1]\n",
        "divide = divide.replace('-',' ')\n",
        "print(divide)"
      ],
      "metadata": {
        "colab": {
          "base_uri": "https://localhost:8080/",
          "height": 130
        },
        "id": "HqVSpKq6n2WY",
        "outputId": "e57a497c-44d9-48ec-b978-d69feec527a0"
      },
      "execution_count": null,
      "outputs": [
        {
          "output_type": "error",
          "ename": "SyntaxError",
          "evalue": "ignored",
          "traceback": [
            "\u001b[0;36m  File \u001b[0;32m\"<ipython-input-83-243b1dfec495>\"\u001b[0;36m, line \u001b[0;32m2\u001b[0m\n\u001b[0;31m    divide = url.split('\\')[-1]\u001b[0m\n\u001b[0m                               ^\u001b[0m\n\u001b[0;31mSyntaxError\u001b[0m\u001b[0;31m:\u001b[0m EOL while scanning string literal\n"
          ]
        }
      ]
    },
    {
      "cell_type": "code",
      "source": [
        "subjects = {'mathematics', 'biology'}\n",
        "subjects.add('english')\n",
        "print(subjects)"
      ],
      "metadata": {
        "colab": {
          "base_uri": "https://localhost:8080/"
        },
        "id": "-hzznChczp5-",
        "outputId": "df67562b-f962-4559-d5d3-642562f70df6"
      },
      "execution_count": null,
      "outputs": [
        {
          "output_type": "stream",
          "name": "stdout",
          "text": [
            "{'biology', 'mathematics', 'english'}\n"
          ]
        }
      ]
    },
    {
      "cell_type": "code",
      "source": [
        "\n"
      ],
      "metadata": {
        "id": "GPdSYuKu03Vs"
      },
      "execution_count": null,
      "outputs": []
    },
    {
      "cell_type": "code",
      "source": [
        ""
      ],
      "metadata": {
        "id": "Ll0FQE6o6URr"
      },
      "execution_count": null,
      "outputs": []
    },
    {
      "cell_type": "code",
      "source": [
        "text = 'Programming in python.'\n",
        "text = text.lower()\n",
        "text = text.replace(' ', '')\n",
        "text = text.replace('.', '')\n",
        "vowels = {'a', 'e', 'i', 'o', 'u'}\n",
        "letters = set(text)\n",
        "consonants = letters.difference(vowels)\n",
        "\n",
        "print(f'Number of items: {len(consonants)}')"
      ],
      "metadata": {
        "colab": {
          "base_uri": "https://localhost:8080/"
        },
        "id": "ZJKzj8fh85WL",
        "outputId": "8af1c4d1-4937-4088-a5fd-de30e481b6f7"
      },
      "execution_count": null,
      "outputs": [
        {
          "output_type": "stream",
          "name": "stdout",
          "text": [
            "Number of items: 8\n"
          ]
        }
      ]
    },
    {
      "cell_type": "code",
      "source": [
        "A = {2, 4, 6, 8}\n",
        "B = {4, 10}\n",
        "c = A .symmetric_difference(B)\n",
        "print(f'Symmetric difference: {c}')"
      ],
      "metadata": {
        "colab": {
          "base_uri": "https://localhost:8080/"
        },
        "id": "9k5b1leN9Dhu",
        "outputId": "f64f7d1c-bab6-4053-d18d-660c7d95d00a"
      },
      "execution_count": null,
      "outputs": [
        {
          "output_type": "stream",
          "name": "stdout",
          "text": [
            "Symmetric difference: {2, 6, 8, 10}\n"
          ]
        }
      ]
    },
    {
      "cell_type": "code",
      "source": [
        "ad1_id = {'001', '002', '003'}\n",
        "ad2_id = {'002', '003', '007'}\n",
        "ran_id = ad1_id .symmetric_difference(ad2_id)\n",
        "print(f'SelectedID: {ran_id}')"
      ],
      "metadata": {
        "colab": {
          "base_uri": "https://localhost:8080/"
        },
        "id": "G3yNIKFzFpHa",
        "outputId": "41408937-d509-4f25-9815-affb4cda52a0"
      },
      "execution_count": null,
      "outputs": [
        {
          "output_type": "stream",
          "name": "stdout",
          "text": [
            "SelectedID: {'001', '007'}\n"
          ]
        }
      ]
    },
    {
      "cell_type": "code",
      "source": [
        ""
      ],
      "metadata": {
        "id": "LHxopoREI5xT"
      },
      "execution_count": null,
      "outputs": []
    },
    {
      "cell_type": "code",
      "source": [
        "is_clicked = {'9001', '9002', '9005'}\n",
        "is_bought = {'9002', '9004', '9005'}\n",
        "customer_id = is_clicked.intersection(is_bought)\n",
        "print(f'Customer ID: {customer_id}')\n"
      ],
      "metadata": {
        "colab": {
          "base_uri": "https://localhost:8080/"
        },
        "id": "hWbB3WHxK_TP",
        "outputId": "5f89b60c-e883-4d64-f030-d19cb7401f20"
      },
      "execution_count": null,
      "outputs": [
        {
          "output_type": "stream",
          "name": "stdout",
          "text": [
            "Customer ID: {'9002', '9005'}\n"
          ]
        }
      ]
    },
    {
      "cell_type": "code",
      "source": [
        "dji1 = ('AAPL.US', 'IBM.US', 'MSFT.US')\n",
        "dji2 = ('HD.US', 'GS.US', 'NKE.US')\n",
        "result = dji1 + dji2\n",
        "print(result)"
      ],
      "metadata": {
        "colab": {
          "base_uri": "https://localhost:8080/"
        },
        "id": "ODyXiUtrK_aQ",
        "outputId": "e3f44e78-a4f6-48a8-bda5-71ab2dd444b4"
      },
      "execution_count": null,
      "outputs": [
        {
          "output_type": "stream",
          "name": "stdout",
          "text": [
            "('AAPL.US', 'IBM.US', 'MSFT.US', 'HD.US', 'GS.US', 'NKE.US')\n"
          ]
        }
      ]
    },
    {
      "cell_type": "code",
      "source": [
        "dji1 = ('AAPL.US', 'IBM.US', 'MSFT.US')\n",
        "dji2 = ('HD.US', 'GS.US', 'NKE.US')\n",
        "result = (dji1,) + (dji2,)\n",
        "print(result)"
      ],
      "metadata": {
        "colab": {
          "base_uri": "https://localhost:8080/"
        },
        "id": "yRk4o7DZOg61",
        "outputId": "fb6c16be-e453-4be6-e9b6-454edf9ea634"
      },
      "execution_count": null,
      "outputs": [
        {
          "output_type": "stream",
          "name": "stdout",
          "text": [
            "(('AAPL.US', 'IBM.US', 'MSFT.US'), ('HD.US', 'GS.US', 'NKE.US'))\n"
          ]
        }
      ]
    },
    {
      "cell_type": "code",
      "source": [
        "members = (('Kate', 23), ('Tom', 19))\n",
        "members = (members[0], ('John', 26), members[1]\n",
        "print(members)"
      ],
      "metadata": {
        "colab": {
          "base_uri": "https://localhost:8080/",
          "height": 130
        },
        "id": "yYBVudGIQTZm",
        "outputId": "13032ee8-b060-4903-9c91-6e9679fc5142"
      },
      "execution_count": null,
      "outputs": [
        {
          "output_type": "error",
          "ename": "SyntaxError",
          "evalue": "ignored",
          "traceback": [
            "\u001b[0;36m  File \u001b[0;32m\"<ipython-input-138-b7f80c9f736f>\"\u001b[0;36m, line \u001b[0;32m3\u001b[0m\n\u001b[0;31m    print(members)\u001b[0m\n\u001b[0m        ^\u001b[0m\n\u001b[0;31mSyntaxError\u001b[0m\u001b[0;31m:\u001b[0m invalid syntax\n"
          ]
        }
      ]
    },
    {
      "cell_type": "code",
      "source": [
        ""
      ],
      "metadata": {
        "id": "ye4OEP6ZRaJe"
      },
      "execution_count": null,
      "outputs": []
    },
    {
      "cell_type": "code",
      "source": [
        "default = ('YES', 'NO', 'NO', 'YES', 'NO')\n",
        "countt = default.count('YES')\n",
        "print(f'Number of occurrences: {countt}')\n"
      ],
      "metadata": {
        "colab": {
          "base_uri": "https://localhost:8080/"
        },
        "id": "xb3fJ3ovXTQD",
        "outputId": "4bade617-5cf1-4013-8523-cc8485adfd33"
      },
      "execution_count": 1,
      "outputs": [
        {
          "output_type": "stream",
          "name": "stdout",
          "text": [
            "Number of occurrances: 2\n"
          ]
        }
      ]
    },
    {
      "cell_type": "code",
      "source": [
        "names = ('Monica', 'Tom', 'John', 'Michael')\n",
        "result = tuple(sorted(names))\n",
        "print(result)"
      ],
      "metadata": {
        "colab": {
          "base_uri": "https://localhost:8080/"
        },
        "id": "MASzn84XYWy3",
        "outputId": "a61a4941-78b3-4a3e-976a-3b6732e4af50"
      },
      "execution_count": 8,
      "outputs": [
        {
          "output_type": "stream",
          "name": "stdout",
          "text": [
            "('John', 'Michael', 'Monica', 'Tom')\n"
          ]
        }
      ]
    },
    {
      "cell_type": "code",
      "source": [
        ""
      ],
      "metadata": {
        "id": "tqF-ANNFucCq"
      },
      "execution_count": null,
      "outputs": []
    },
    {
      "cell_type": "code",
      "source": [
        "info = (('Monica', 19), ('Tom', 21), ('John', 18))\n",
        "ascend = tuple(sorted(info))\n",
        "descend = tuple(sorted(info, reverse = True))\n",
        "print(f'Ascending:{ascend}')\n",
        "print(f'Descending: {descend}')\n"
      ],
      "metadata": {
        "colab": {
          "base_uri": "https://localhost:8080/"
        },
        "id": "2rsbnl9P1L2q",
        "outputId": "28e98710-c38b-4e49-c87c-d8d0cc2129d0"
      },
      "execution_count": 12,
      "outputs": [
        {
          "output_type": "stream",
          "name": "stdout",
          "text": [
            "Ascending:(('John', 18), ('Monica', 19), ('Tom', 21))\n",
            "Descending: (('Tom', 21), ('Monica', 19), ('John', 18))\n"
          ]
        }
      ]
    },
    {
      "cell_type": "code",
      "source": [
        "asc = tuple(sorted(info, key=lambda item: item[1]))\n",
        "desc = tuple(sorted(info, key=lambda item: item[1], reverse=True))\n",
        "print(f'Ascending: {asc}')\n",
        "print(f'Descending: {desc}')"
      ],
      "metadata": {
        "colab": {
          "base_uri": "https://localhost:8080/"
        },
        "id": "SLwFJKBR35po",
        "outputId": "dd2ab8b5-e87b-453c-e76e-4b69dcae6aab"
      },
      "execution_count": 15,
      "outputs": [
        {
          "output_type": "stream",
          "name": "stdout",
          "text": [
            "Ascending: (('John', 18), ('Monica', 19), ('Tom', 21))\n",
            "Descending: (('Tom', 21), ('Monica', 19), ('John', 18))\n"
          ]
        }
      ]
    },
    {
      "cell_type": "code",
      "source": [
        ""
      ],
      "metadata": {
        "id": "WDdtBvRj1L6G"
      },
      "execution_count": null,
      "outputs": []
    },
    {
      "cell_type": "code",
      "source": [
        "stocks = (\n",
        "    ('Apple Inc', ('AAPL.US', 310)),\n",
        "    ('Microsoft Corp', ('MSFT.US', 184)),\n",
        ")\n",
        "print(stocks[0][1][0])"
      ],
      "metadata": {
        "colab": {
          "base_uri": "https://localhost:8080/"
        },
        "id": "7dg7XnIu4d6T",
        "outputId": "9651c444-fc64-4608-dbeb-32ff24b281f4"
      },
      "execution_count": 24,
      "outputs": [
        {
          "output_type": "stream",
          "name": "stdout",
          "text": [
            "AAPL.US\n"
          ]
        }
      ]
    },
    {
      "cell_type": "code",
      "source": [
        ""
      ],
      "metadata": {
        "id": "8ODfRCDZ4eCI"
      },
      "execution_count": null,
      "outputs": []
    },
    {
      "cell_type": "code",
      "source": [
        "cities = ['Los Angeles', 'New York', 'Chicago']\n",
        "cities.append(\"Houston\")\n",
        "print(cities)"
      ],
      "metadata": {
        "colab": {
          "base_uri": "https://localhost:8080/"
        },
        "id": "EIlYTtou4eHu",
        "outputId": "e89988dd-f22d-42b9-a0cf-a6e626fd809e"
      },
      "execution_count": 26,
      "outputs": [
        {
          "output_type": "stream",
          "name": "stdout",
          "text": [
            "['Los Angeles', 'New York', 'Chicago', 'Houston']\n"
          ]
        }
      ]
    },
    {
      "cell_type": "code",
      "source": [
        ""
      ],
      "metadata": {
        "id": "Guwmu7-4KA6A"
      },
      "execution_count": null,
      "outputs": []
    },
    {
      "cell_type": "code",
      "source": [
        "idx = ['001', '002', '001', '003', '001']\n",
        "result = idx.count('001')\n",
        "print(f'Number of occurrences: {result}')"
      ],
      "metadata": {
        "colab": {
          "base_uri": "https://localhost:8080/"
        },
        "id": "2_hAvrmjKX5j",
        "outputId": "bbbad150-07d2-4015-b99c-076d9a95decb"
      },
      "execution_count": 27,
      "outputs": [
        {
          "output_type": "stream",
          "name": "stdout",
          "text": [
            "Number of occurrences 3\n"
          ]
        }
      ]
    },
    {
      "cell_type": "code",
      "source": [
        ""
      ],
      "metadata": {
        "id": "uQBqRenpKX86"
      },
      "execution_count": null,
      "outputs": []
    },
    {
      "cell_type": "code",
      "source": [
        "text = 'Python programming'\n",
        "text = text.lower()\n",
        "\n",
        "text = text.replace(\" \", \"\")\n",
        "listt = sorted(text)\n",
        "#print(listt)\n",
        "output=[]\n",
        "for x in listt:\n",
        "  if x  not in output:\n",
        "    output.append(x)\n",
        "print(output)\n"
      ],
      "metadata": {
        "colab": {
          "base_uri": "https://localhost:8080/"
        },
        "id": "xkHpinq7LKP7",
        "outputId": "5fbe702c-4631-4602-bc3f-7f5811bd13ed"
      },
      "execution_count": 52,
      "outputs": [
        {
          "output_type": "stream",
          "name": "stdout",
          "text": [
            "['a', 'g', 'h', 'i', 'm', 'n', 'o', 'p', 'r', 't', 'y']\n"
          ]
        }
      ]
    },
    {
      "cell_type": "code",
      "source": [
        "text = 'Python programming'\n",
        "text = text.lower()\n",
        "characters = list(set(text))\n",
        "characters.remove(' ')\n",
        "characters.sort()\n",
        "print(characters)"
      ],
      "metadata": {
        "id": "dPHLMJW1LKTb"
      },
      "execution_count": null,
      "outputs": []
    },
    {
      "cell_type": "code",
      "source": [
        "text = 'Python programming'\n",
        "text = text.lower()\n",
        "characters = list(set(text))\n",
        "characters.remove(' ')\n",
        "characters.sort()\n",
        "\n",
        "print(characters)"
      ],
      "metadata": {
        "colab": {
          "base_uri": "https://localhost:8080/"
        },
        "id": "tYsF3cujVO_H",
        "outputId": "326bf772-cdce-4542-c9ef-8c69214d73b7"
      },
      "execution_count": 54,
      "outputs": [
        {
          "output_type": "stream",
          "name": "stdout",
          "text": [
            "['a', 'g', 'h', 'i', 'm', 'n', 'o', 'p', 'r', 't', 'y']\n"
          ]
        }
      ]
    },
    {
      "cell_type": "code",
      "source": [
        ""
      ],
      "metadata": {
        "id": "Kn7AuEJWbDyP"
      },
      "execution_count": null,
      "outputs": []
    },
    {
      "cell_type": "code",
      "source": [
        ""
      ],
      "metadata": {
        "id": "PWU41KHWbECM"
      },
      "execution_count": null,
      "outputs": []
    },
    {
      "cell_type": "code",
      "source": [
        "filenames = ['view.jpg', 'bear.jpg', 'ball.png']\n",
        "filenames.insert(0,'phone.jpg')\n",
        "del filenames[3]\n",
        "print(filenames)"
      ],
      "metadata": {
        "colab": {
          "base_uri": "https://localhost:8080/"
        },
        "id": "Koetqv4MVTYA",
        "outputId": "c44e51ce-69ce-4e16-8526-1e83c0ee1c67"
      },
      "execution_count": 64,
      "outputs": [
        {
          "output_type": "stream",
          "name": "stdout",
          "text": [
            "['phone.jpg', 'view.jpg', 'bear.jpg']\n"
          ]
        }
      ]
    },
    {
      "cell_type": "code",
      "source": [
        "filenames = ['view.jpg', 'bear.jpg', 'ball.png']\n",
        "filenames.insert(0,'phone.jpg')\n",
        "filenames.remove('ball.png')\n",
        "print(filenames)"
      ],
      "metadata": {
        "colab": {
          "base_uri": "https://localhost:8080/"
        },
        "id": "eNR1mLzcXKA2",
        "outputId": "61b869d1-86f8-4ecc-c1ce-f6d5e7731c30"
      },
      "execution_count": 65,
      "outputs": [
        {
          "output_type": "stream",
          "name": "stdout",
          "text": [
            "['phone.jpg', 'view.jpg', 'bear.jpg']\n"
          ]
        }
      ]
    },
    {
      "cell_type": "code",
      "source": [
        "filenames = ['view.jpg', 'bear.jpg', 'ball.png']\n",
        "filenames.insert(0,'phone.jpg')\n",
        "filenames.pop()\n",
        "print(filenames)"
      ],
      "metadata": {
        "colab": {
          "base_uri": "https://localhost:8080/"
        },
        "id": "l5blQqL5dCIN",
        "outputId": "d4ffe1b7-824c-4e3a-ea8c-abc8b80d3502"
      },
      "execution_count": 66,
      "outputs": [
        {
          "output_type": "stream",
          "name": "stdout",
          "text": [
            "['phone.jpg', 'view.jpg', 'bear.jpg']\n"
          ]
        }
      ]
    },
    {
      "cell_type": "code",
      "source": [
        "day1 = ['3984', '9042', '4829', '2380']\n",
        "day2 = ['4231', '5234', '1345', '2455']\n",
        "day1.extend(day2)\n",
        "print(day1)"
      ],
      "metadata": {
        "colab": {
          "base_uri": "https://localhost:8080/"
        },
        "id": "mhpjZsZ1dCLe",
        "outputId": "8e92cf66-face-40a1-c650-848793247df8"
      },
      "execution_count": 72,
      "outputs": [
        {
          "output_type": "stream",
          "name": "stdout",
          "text": [
            "['3984', '9042', '4829', '2380', '4231', '5234', '1345', '2455']\n"
          ]
        }
      ]
    },
    {
      "cell_type": "code",
      "source": [
        "day1 = ['3984', '9042', '4829', '2380']\n",
        "day2 = ['4231', '5234', '1345', '2455']\n",
        "print(day1 + day2)"
      ],
      "metadata": {
        "colab": {
          "base_uri": "https://localhost:8080/"
        },
        "id": "7FduNKaAgOBA",
        "outputId": "29429510-a76b-4522-bd3d-1fea56eaa1c8"
      },
      "execution_count": 70,
      "outputs": [
        {
          "output_type": "stream",
          "name": "stdout",
          "text": [
            "['3984', '9042', '4829', '2380', '4231', '5234', '1345', '2455']\n"
          ]
        }
      ]
    },
    {
      "cell_type": "code",
      "source": [
        ""
      ],
      "metadata": {
        "id": "XiQ-4AqUhxaa"
      },
      "execution_count": null,
      "outputs": []
    },
    {
      "cell_type": "code",
      "source": [
        "day1 = ['3984', '9042', '4829', '2380']\n",
        "day2 = ['4231', '5234', '1345', '2455']\n",
        "print(day1 + day2)"
      ],
      "metadata": {
        "id": "Hl5xEHBBh3w-"
      },
      "execution_count": null,
      "outputs": []
    },
    {
      "cell_type": "code",
      "source": [
        "techs = ('python', 'java', 'sql', 'aws')\n",
        "techs = list(sorted(techs))\n",
        "techs = tuple(techs)\n",
        "print(techs)"
      ],
      "metadata": {
        "colab": {
          "base_uri": "https://localhost:8080/"
        },
        "id": "YI89N60gh308",
        "outputId": "ad1edf8d-e173-4d70-9a2f-d0840ec16fcc"
      },
      "execution_count": 77,
      "outputs": [
        {
          "output_type": "stream",
          "name": "stdout",
          "text": [
            "('aws', 'java', 'python', 'sql')\n"
          ]
        }
      ]
    },
    {
      "cell_type": "code",
      "source": [
        "techs = ('python', 'java', 'sql', 'aws')\n",
        "techs = tuple(sorted(techs))\n",
        "print(techs)"
      ],
      "metadata": {
        "colab": {
          "base_uri": "https://localhost:8080/"
        },
        "id": "fFsFjudKh35B",
        "outputId": "8f0de28e-1702-49c7-9675-4027ff123554"
      },
      "execution_count": 76,
      "outputs": [
        {
          "output_type": "stream",
          "name": "stdout",
          "text": [
            "('aws', 'java', 'python', 'sql')\n"
          ]
        }
      ]
    },
    {
      "cell_type": "code",
      "source": [
        ""
      ],
      "metadata": {
        "id": "V8ZBy9QJkPWz"
      },
      "execution_count": null,
      "outputs": []
    },
    {
      "cell_type": "code",
      "source": [
        "hashtags = ['summer', 'time', 'vibes']\n",
        "print(hashtags, sep='#')"
      ],
      "metadata": {
        "colab": {
          "base_uri": "https://localhost:8080/"
        },
        "id": "nZI3Vpz5kPaD",
        "outputId": "dca1b36a-6d5e-45f6-c92f-a13ae30f6f8c"
      },
      "execution_count": 78,
      "outputs": [
        {
          "output_type": "stream",
          "name": "stdout",
          "text": [
            "['summer', 'time', 'vibes']\n"
          ]
        }
      ]
    },
    {
      "cell_type": "code",
      "source": [
        "hashtags = ['summer', 'time', 'vibes']\n",
        "print('#' + '#'.join(hashtags))"
      ],
      "metadata": {
        "colab": {
          "base_uri": "https://localhost:8080/"
        },
        "id": "oDimJ9tUlVNe",
        "outputId": "e3df12ca-ecf1-45ac-e73f-50f5df933612"
      },
      "execution_count": 85,
      "outputs": [
        {
          "output_type": "stream",
          "name": "stdout",
          "text": [
            "#summer#time#vibes\n"
          ]
        }
      ]
    },
    {
      "cell_type": "code",
      "source": [
        ""
      ],
      "metadata": {
        "id": "9FH8_ynsmDqi"
      },
      "execution_count": null,
      "outputs": []
    },
    {
      "cell_type": "code",
      "source": [
        "my_dict = { 'USA': 'Washington',\n",
        "'Germany': 'Berlin',\n",
        "'Austria': 'Vienna', \n",
        "}\n",
        "print(my_dict)"
      ],
      "metadata": {
        "colab": {
          "base_uri": "https://localhost:8080/"
        },
        "id": "UZ3DAWlY6GR8",
        "outputId": "88bb86a9-95fe-4bb1-f113-fbf16368e7f6"
      },
      "execution_count": 91,
      "outputs": [
        {
          "output_type": "stream",
          "name": "stdout",
          "text": [
            "{'USA': 'Washington', 'Germany': 'Berlin', 'Austria': 'Vienna'}\n"
          ]
        }
      ]
    },
    {
      "cell_type": "code",
      "source": [
        "capitals = {\n",
        "    'USA': 'Washington',\n",
        "    'Germany': 'Berlin',\n",
        "    'Austria': 'Vienna'\n",
        "}\n",
        "dict_keys = capitals.keys()\n",
        "print(dict_keys)"
      ],
      "metadata": {
        "colab": {
          "base_uri": "https://localhost:8080/"
        },
        "id": "30J6mFT26RkQ",
        "outputId": "31723c48-3412-4714-c717-c91eac14fb17"
      },
      "execution_count": 97,
      "outputs": [
        {
          "output_type": "stream",
          "name": "stdout",
          "text": [
            "dict_keys(['USA', 'Germany', 'Austria'])\n"
          ]
        }
      ]
    },
    {
      "cell_type": "code",
      "source": [
        "capitals = {\n",
        "    'USA': 'Washington',\n",
        "    'Germany': 'Berlin',\n",
        "    'Austria': 'Vienna'\n",
        "}\n",
        "dict_values = capitals.values()\n",
        "print(dict_values)"
      ],
      "metadata": {
        "colab": {
          "base_uri": "https://localhost:8080/"
        },
        "id": "I6UD1m7m87F0",
        "outputId": "015da860-d143-4fb1-bafa-2c01af8159c1"
      },
      "execution_count": 98,
      "outputs": [
        {
          "output_type": "stream",
          "name": "stdout",
          "text": [
            "dict_values(['Washington', 'Berlin', 'Vienna'])\n"
          ]
        }
      ]
    },
    {
      "cell_type": "code",
      "source": [
        "capitals = {\n",
        "    'USA': 'Washington',\n",
        "    'Germany': 'Berlin',\n",
        "    'Austria': 'Vienna'\n",
        "}\n",
        "dict_items = capitals.items()\n",
        "print(dict_items)"
      ],
      "metadata": {
        "colab": {
          "base_uri": "https://localhost:8080/"
        },
        "id": "xuG3SZyPXcUC",
        "outputId": "4f7d65cd-0451-4fb3-9b09-7d6fda2dc8f4"
      },
      "execution_count": 5,
      "outputs": [
        {
          "output_type": "stream",
          "name": "stdout",
          "text": [
            "dict_items([('USA', 'Washington'), ('Germany', 'Berlin'), ('Austria', 'Vienna')])\n"
          ]
        }
      ]
    },
    {
      "cell_type": "code",
      "source": [
        ""
      ],
      "metadata": {
        "id": "MYgNFJmeCiHd"
      },
      "execution_count": null,
      "outputs": []
    },
    {
      "cell_type": "code",
      "source": [
        "capitals = {\n",
        "    'USA': 'Washington',\n",
        "    'Germany': 'Berlin',\n",
        "    'Austria': 'Vienna'\n",
        "}\n",
        "gett = capitals.get('Austria')\n",
        "print(gett)"
      ],
      "metadata": {
        "colab": {
          "base_uri": "https://localhost:8080/"
        },
        "id": "n2rIr3fJD9FZ",
        "outputId": "c206f0d8-86f6-4b57-c6e1-ec30c5dbd475"
      },
      "execution_count": 8,
      "outputs": [
        {
          "output_type": "stream",
          "name": "stdout",
          "text": [
            "Vienna\n"
          ]
        }
      ]
    },
    {
      "cell_type": "code",
      "source": [
        "capitals = {\n",
        "    'USA': 'Washington',\n",
        "    'Germany': 'Berlin',\n",
        "    'Austria': 'Vienna'\n",
        "}\n",
        "print(capitals.get('Austria'))"
      ],
      "metadata": {
        "colab": {
          "base_uri": "https://localhost:8080/"
        },
        "id": "IdLfss_9D9Ie",
        "outputId": "63586ea9-e931-4569-c4a6-34f549623d3f"
      },
      "execution_count": 9,
      "outputs": [
        {
          "output_type": "stream",
          "name": "stdout",
          "text": [
            "Vienna\n"
          ]
        }
      ]
    },
    {
      "cell_type": "code",
      "source": [
        ""
      ],
      "metadata": {
        "id": "KdUSrKtpFo3q"
      },
      "execution_count": null,
      "outputs": []
    },
    {
      "cell_type": "code",
      "source": [
        "stocks = {\n",
        "    'MSFT.US': {'Microsoft Corp': 184},\n",
        "    'AAPL.US': {'Apple Inc': 310},\n",
        "    'MMM.US': {'3M Co': 148}\n",
        "}\n",
        "print(stocks.get('AAPL.US'))"
      ],
      "metadata": {
        "colab": {
          "base_uri": "https://localhost:8080/"
        },
        "id": "y5OhVL_8F4ki",
        "outputId": "2e697ac2-5c7d-4531-eefd-b8cfccc1e3b7"
      },
      "execution_count": 10,
      "outputs": [
        {
          "output_type": "stream",
          "name": "stdout",
          "text": [
            "{'Apple Inc': 310}\n"
          ]
        }
      ]
    },
    {
      "cell_type": "code",
      "source": [
        "stocks = {\n",
        "    'MSFT.US': {'Microsoft Corp': 184},\n",
        "    'AAPL.US': {'Apple Inc': 310},\n",
        "    'MMM.US': {'3M Co': 148}\n",
        "}\n",
        "print(stocks['AAPL.US'])"
      ],
      "metadata": {
        "colab": {
          "base_uri": "https://localhost:8080/"
        },
        "id": "IKmNndfHF4nx",
        "outputId": "293c9f88-c082-47ad-e8fd-c5e316970cce"
      },
      "execution_count": 13,
      "outputs": [
        {
          "output_type": "stream",
          "name": "stdout",
          "text": [
            "{'Apple Inc': 310}\n"
          ]
        }
      ]
    },
    {
      "cell_type": "code",
      "source": [
        ""
      ],
      "metadata": {
        "id": "ZlK836v9Hc2-"
      },
      "execution_count": null,
      "outputs": []
    },
    {
      "cell_type": "code",
      "source": [
        "stocks = {\n",
        "    'MSFT.US': {'Microsoft Corp': 184},\n",
        "    'AAPL.US': {'Apple Inc': 310},\n",
        "    'MMM.US': {'3M Co': 148}\n",
        "}\n",
        "print(stocks.get('MSFT.US')['Microsoft Corp'])\n",
        "print(stocks['MSFT.US']['Microsoft Corp'])"
      ],
      "metadata": {
        "colab": {
          "base_uri": "https://localhost:8080/"
        },
        "id": "-CXlIfThH1-e",
        "outputId": "66e414eb-28c0-4616-dc3c-3067b7c6e618"
      },
      "execution_count": 19,
      "outputs": [
        {
          "output_type": "stream",
          "name": "stdout",
          "text": [
            "184\n",
            "184\n"
          ]
        }
      ]
    },
    {
      "cell_type": "code",
      "source": [
        ""
      ],
      "metadata": {
        "id": "HbuCj36hH2CN"
      },
      "execution_count": null,
      "outputs": []
    },
    {
      "cell_type": "code",
      "source": [
        "stocks = {\n",
        "    'MSFT.US': {'Microsoft Corp': 184},\n",
        "    'AAPL.US': {'Apple Inc': 310},\n",
        "    'MMM.US': {'3M Co': 148}\n",
        "}\n",
        "stocks['MSFT.US']['Microsoft Corp'] = 190\n",
        "print(stocks['MSFT.US'])\n"
      ],
      "metadata": {
        "colab": {
          "base_uri": "https://localhost:8080/"
        },
        "id": "Z0AV_5q9K7t9",
        "outputId": "f75f070c-314d-43eb-c2f9-9d89b0c7e804"
      },
      "execution_count": 28,
      "outputs": [
        {
          "output_type": "stream",
          "name": "stdout",
          "text": [
            "{'Microsoft Corp': 190}\n"
          ]
        }
      ]
    },
    {
      "cell_type": "code",
      "source": [
        ""
      ],
      "metadata": {
        "id": "UoZqVxAZH2GN"
      },
      "execution_count": null,
      "outputs": []
    },
    {
      "cell_type": "code",
      "source": [
        "stocks = {\n",
        "    'MSFT.US': {'Microsoft Corp': 184},\n",
        "    'AAPL.US': {'Apple Inc': 310},\n",
        "    'MMM.US': {'3M Co': 148}\n",
        "}\n",
        "stocks['V.US'] = {'Visa Inc': 185}\n",
        "print(stocks.values())"
      ],
      "metadata": {
        "colab": {
          "base_uri": "https://localhost:8080/"
        },
        "id": "-vQxx6lcPX88",
        "outputId": "ba09a958-1cdf-42d0-bfe1-e8a6e74eda3a"
      },
      "execution_count": 34,
      "outputs": [
        {
          "output_type": "stream",
          "name": "stdout",
          "text": [
            "dict_values([{'Microsoft Corp': 184}, {'Apple Inc': 310}, {'3M Co': 148}, {'Visa Inc': 185}])\n"
          ]
        }
      ]
    },
    {
      "cell_type": "code",
      "source": [
        "\n"
      ],
      "metadata": {
        "id": "VWD3jmi-PYAY"
      },
      "execution_count": null,
      "outputs": []
    },
    {
      "cell_type": "code",
      "source": [
        ""
      ],
      "metadata": {
        "id": "iIzUSJQLRME-"
      },
      "execution_count": null,
      "outputs": []
    }
  ]
}