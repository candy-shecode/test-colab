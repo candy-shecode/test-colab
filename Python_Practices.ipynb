{
  "nbformat": 4,
  "nbformat_minor": 0,
  "metadata": {
    "colab": {
      "name": "Python_Practices.ipynb",
      "provenance": [],
      "authorship_tag": "ABX9TyMTJ5rqjPXxOi0g8YNOJwsr",
      "include_colab_link": true
    },
    "kernelspec": {
      "name": "python3",
      "display_name": "Python 3"
    },
    "language_info": {
      "name": "python"
    }
  },
  "cells": [
    {
      "cell_type": "markdown",
      "metadata": {
        "id": "view-in-github",
        "colab_type": "text"
      },
      "source": [
        "<a href=\"https://colab.research.google.com/github/candy-shecode/test-colab/blob/main/Python_Practices.ipynb\" target=\"_parent\"><img src=\"https://colab.research.google.com/assets/colab-badge.svg\" alt=\"Open In Colab\"/></a>"
      ]
    },
    {
      "cell_type": "code",
      "execution_count": 1,
      "metadata": {
        "colab": {
          "base_uri": "https://localhost:8080/"
        },
        "id": "bGYEYgmeEdD0",
        "outputId": "0c7e3163-d6c2-4121-b1e2-f61fbd525afd"
      },
      "outputs": [
        {
          "output_type": "stream",
          "name": "stdout",
          "text": [
            "Hey Github\n"
          ]
        }
      ],
      "source": [
        "print('Hey Github')"
      ]
    },
    {
      "cell_type": "code",
      "source": [
        ""
      ],
      "metadata": {
        "id": "hUV1DOcDIckI"
      },
      "execution_count": null,
      "outputs": []
    }
  ]
}